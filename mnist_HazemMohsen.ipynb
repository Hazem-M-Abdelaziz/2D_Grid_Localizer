{
  "nbformat": 4,
  "nbformat_minor": 0,
  "metadata": {
    "colab": {
      "provenance": [],
      "include_colab_link": true
    },
    "kernelspec": {
      "name": "python3",
      "display_name": "Python 3"
    },
    "language_info": {
      "name": "python"
    }
  },
  "cells": [
    {
      "cell_type": "markdown",
      "metadata": {
        "id": "view-in-github",
        "colab_type": "text"
      },
      "source": [
        "<a href=\"https://colab.research.google.com/github/Hazem-M-Abdelaziz/2D_Grid_Localizer/blob/main/mnist_HazemMohsen.ipynb\" target=\"_parent\"><img src=\"https://colab.research.google.com/assets/colab-badge.svg\" alt=\"Open In Colab\"/></a>"
      ]
    },
    {
      "cell_type": "code",
      "execution_count": 35,
      "metadata": {
        "id": "Gcom0x8zaJgd"
      },
      "outputs": [],
      "source": [
        "#(Importing keras and mnist data set)\n",
        "import numpy as np\n",
        "from tensorflow import keras\n",
        "from keras.datasets import mnist\n",
        "(x_train, y_train), (x_test, y_test) = mnist.load_data()\n",
        "from tensorflow.keras.models import Sequential\n",
        "from tensorflow.keras.layers import Dense\n",
        "import matplotlib.pyplot as plt"
      ]
    },
    {
      "cell_type": "code",
      "source": [
        "from matplotlib.cbook import flatten\n",
        "#Cell 4 (Creating model + compile)\n",
        "model = Sequential()\n",
        "model.add(Flatten())\n",
        "model.add(Dense(128, activation='relu',input_shape=(784,)))\n",
        "model.add(Dense(128,activation='relu'))\n",
        "model.add(Dense(64,activation='relu'))\n",
        "model.add(Dense(10,activation='softmax'))"
      ],
      "metadata": {
        "id": "dr71FtKPgyy8"
      },
      "execution_count": 36,
      "outputs": []
    },
    {
      "cell_type": "code",
      "source": [
        "#Cell 5 (Fitting model)\n",
        "model.compile(optimizer='adam',loss='sparse_categorical_crossentropy',metrics=['accuracy'])\n",
        "results = model.fit(x_train,y_train,epochs=10,batch_size=128,validation_data=(x_test,y_test))"
      ],
      "metadata": {
        "colab": {
          "base_uri": "https://localhost:8080/"
        },
        "id": "AGEIcIaxhttD",
        "outputId": "0e3f2aff-72e4-43c0-afb4-3db3f57ca871"
      },
      "execution_count": 37,
      "outputs": [
        {
          "output_type": "stream",
          "name": "stdout",
          "text": [
            "Epoch 1/10\n",
            "469/469 [==============================] - 4s 7ms/step - loss: 1.8366 - accuracy: 0.8480 - val_loss: 0.3924 - val_accuracy: 0.9098\n",
            "Epoch 2/10\n",
            "469/469 [==============================] - 3s 7ms/step - loss: 0.2886 - accuracy: 0.9300 - val_loss: 0.2990 - val_accuracy: 0.9296\n",
            "Epoch 3/10\n",
            "469/469 [==============================] - 5s 11ms/step - loss: 0.1831 - accuracy: 0.9505 - val_loss: 0.2221 - val_accuracy: 0.9456\n",
            "Epoch 4/10\n",
            "469/469 [==============================] - 3s 7ms/step - loss: 0.1387 - accuracy: 0.9600 - val_loss: 0.2172 - val_accuracy: 0.9465\n",
            "Epoch 5/10\n",
            "469/469 [==============================] - 3s 7ms/step - loss: 0.1109 - accuracy: 0.9672 - val_loss: 0.1865 - val_accuracy: 0.9535\n",
            "Epoch 6/10\n",
            "469/469 [==============================] - 3s 7ms/step - loss: 0.1043 - accuracy: 0.9692 - val_loss: 0.1992 - val_accuracy: 0.9540\n",
            "Epoch 7/10\n",
            "469/469 [==============================] - 5s 11ms/step - loss: 0.0990 - accuracy: 0.9702 - val_loss: 0.1915 - val_accuracy: 0.9559\n",
            "Epoch 8/10\n",
            "469/469 [==============================] - 4s 8ms/step - loss: 0.0832 - accuracy: 0.9752 - val_loss: 0.1826 - val_accuracy: 0.9617\n",
            "Epoch 9/10\n",
            "469/469 [==============================] - 3s 7ms/step - loss: 0.0796 - accuracy: 0.9763 - val_loss: 0.1838 - val_accuracy: 0.9608\n",
            "Epoch 10/10\n",
            "469/469 [==============================] - 4s 8ms/step - loss: 0.0731 - accuracy: 0.9776 - val_loss: 0.1731 - val_accuracy: 0.9595\n"
          ]
        }
      ]
    },
    {
      "cell_type": "code",
      "source": [
        "model.summary()\n"
      ],
      "metadata": {
        "id": "rqm11TTejn_s",
        "colab": {
          "base_uri": "https://localhost:8080/"
        },
        "outputId": "967e9eed-a7fe-4e9c-a40e-6c3bde23ef51"
      },
      "execution_count": 38,
      "outputs": [
        {
          "output_type": "stream",
          "name": "stdout",
          "text": [
            "Model: \"sequential_3\"\n",
            "_________________________________________________________________\n",
            " Layer (type)                Output Shape              Param #   \n",
            "=================================================================\n",
            " flatten_3 (Flatten)         (None, 784)               0         \n",
            "                                                                 \n",
            " dense_11 (Dense)            (None, 128)               100480    \n",
            "                                                                 \n",
            " dense_12 (Dense)            (None, 128)               16512     \n",
            "                                                                 \n",
            " dense_13 (Dense)            (None, 64)                8256      \n",
            "                                                                 \n",
            " dense_14 (Dense)            (None, 10)                650       \n",
            "                                                                 \n",
            "=================================================================\n",
            "Total params: 125,898\n",
            "Trainable params: 125,898\n",
            "Non-trainable params: 0\n",
            "_________________________________________________________________\n"
          ]
        }
      ]
    },
    {
      "cell_type": "code",
      "source": [
        "score = model.evaluate(x_test,y_test)"
      ],
      "metadata": {
        "id": "tN5raBPOoCVy",
        "colab": {
          "base_uri": "https://localhost:8080/"
        },
        "outputId": "2117926b-c6bd-4ab3-ea98-ca12e1addc67"
      },
      "execution_count": 39,
      "outputs": [
        {
          "output_type": "stream",
          "name": "stdout",
          "text": [
            "313/313 [==============================] - 1s 3ms/step - loss: 0.1731 - accuracy: 0.9595\n"
          ]
        }
      ]
    },
    {
      "cell_type": "code",
      "source": [
        "plt.imshow(x_test[69])\n",
        "print(pred1[69])"
      ],
      "metadata": {
        "id": "ocHkyFrMsLnd",
        "colab": {
          "base_uri": "https://localhost:8080/",
          "height": 447
        },
        "outputId": "db47c7f9-edd1-4dd9-d7cc-70ee5c9d6d02"
      },
      "execution_count": 40,
      "outputs": [
        {
          "output_type": "stream",
          "name": "stdout",
          "text": [
            "0\n"
          ]
        },
        {
          "output_type": "display_data",
          "data": {
            "text/plain": [
              "<Figure size 640x480 with 1 Axes>"
            ],
            "image/png": "[encoded data removed]"
          },
          "metadata": {}
        }
      ]
    },
    {
      "cell_type": "code",
      "source": [
        "model.save('minst.h5')"
      ],
      "metadata": {
        "id": "p_NXK1Favljm"
      },
      "execution_count": 41,
      "outputs": []
    },
    {
      "cell_type": "code",
      "source": [
        "#To call Model\n",
        "from keras.models import load_model\n",
        "model=load_model(\"minst.h5\")"
      ],
      "metadata": {
        "id": "gcwN1L16xMpv"
      },
      "execution_count": 42,
      "outputs": []
    },
    {
      "cell_type": "code",
      "source": [
        "from google.colab import drive\n",
        "drive.mount('/content/drive')\n",
        "model.save('content/drive/MyDrive/savedModels/mnist_saved.h5')"
      ],
      "metadata": {
        "colab": {
          "base_uri": "https://localhost:8080/"
        },
        "id": "BeoPElhd4unL",
        "outputId": "ce5f1308-e149-4c5a-eccf-d533dad27d97"
      },
      "execution_count": 43,
      "outputs": [
        {
          "output_type": "stream",
          "name": "stdout",
          "text": [
            "Drive already mounted at /content/drive; to attempt to forcibly remount, call drive.mount(\"/content/drive\", force_remount=True).\n"
          ]
        }
      ]
    }
  ]
}